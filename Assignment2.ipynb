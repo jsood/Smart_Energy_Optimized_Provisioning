{
 "cells": [
  {
   "cell_type": "code",
   "execution_count": 1,
   "metadata": {},
   "outputs": [],
   "source": [
    "import cvxpy as cp\n",
    "import numpy as np"
   ]
  },
  {
   "cell_type": "code",
   "execution_count": 2,
   "metadata": {},
   "outputs": [
    {
     "name": "stdout",
     "output_type": "stream",
     "text": [
      "[-1.00049723e-03  2.78867474e-02  1.72324009e-03  3.67299258e-05\n",
      " -1.34110728e-03  1.49849244e-01 -6.94547812e-04  4.95171402e-04\n",
      "  2.46109612e-01  5.76052476e-01 -2.31429313e-03  2.33210221e-04\n",
      " -4.49099455e-04  2.25180894e-01 -9.46443449e-04 -4.96566507e-04\n",
      " -8.01071048e-04 -8.34661500e-04  7.72478759e-04 -2.09625000e-03]\n",
      "[ 1.09903552 -1.02492371  2.26933624  0.95084789  4.0133446   0.68365192\n",
      "  0.28785274  2.06516239  1.37049403 -2.56192713  0.28915791 -1.02321332\n",
      " -1.12096684  1.28940399  3.1629931   1.5340185  -1.031995    1.4154816\n",
      " -0.90756085  0.30574722]\n"
     ]
    }
   ],
   "source": [
    "# Problem data.\n",
    "m = 30\n",
    "n = 20\n",
    "np.random.seed(1)\n",
    "A = np.random.randn(m, n)\n",
    "b = np.random.randn(m)\n",
    "\n",
    "# Construct the problem.\n",
    "x = cp.Variable(n)\n",
    "objective = cp.Minimize(cp.sum_squares(A*x - b))\n",
    "constraints = [0 <= x, x <= 1]\n",
    "prob = cp.Problem(objective, constraints)\n",
    "\n",
    "# The optimal objective value is returned by `prob.solve()`.\n",
    "result = prob.solve()\n",
    "# The optimal value for x is stored in `x.value`.\n",
    "print(x.value)\n",
    "# The optimal Lagrange multiplier for a constraint is stored in\n",
    "# `constraint.dual_value`.\n",
    "print(constraints[0].dual_value)"
   ]
  },
  {
   "cell_type": "code",
   "execution_count": 8,
   "metadata": {},
   "outputs": [
    {
     "name": "stdout",
     "output_type": "stream",
     "text": [
      "[2.8025854  2.90258539 2.60258531 3.10258536]\n",
      "[3.36706060e-09 3.22350035e-09 3.68567251e-09 2.96184946e-09]\n"
     ]
    }
   ],
   "source": [
    "p = 0.4\n",
    "a = 4\n",
    "# use the y as directly from the house values\n",
    "y = [0.5, 0.6, 0.3, 0.8]\n",
    "\n",
    "x = cp.Variable(4)\n",
    "equation = p*x + a*(cp.maximum(0,cp.exp(y-x)))\n",
    "objective = cp.Minimize(cp.sum(equation))\n",
    "constraints = [0 <= x]\n",
    "prob = cp.Problem(objective, constraints)\n",
    "\n",
    "# The optimal objective value is returned by `prob.solve()`.\n",
    "result = prob.solve()\n",
    "# The optimal value for x is stored in `x.value`.\n",
    "print(x.value)\n",
    "# The optimal Lagrange multiplier for a constraint is stored in\n",
    "# `constraint.dual_value`.\n",
    "print(constraints[0].dual_value)"
   ]
  },
  {
   "cell_type": "code",
   "execution_count": null,
   "metadata": {},
   "outputs": [],
   "source": []
  }
 ],
 "metadata": {
  "kernelspec": {
   "display_name": "Python 2",
   "language": "python",
   "name": "python2"
  },
  "language_info": {
   "codemirror_mode": {
    "name": "ipython",
    "version": 2
   },
   "file_extension": ".py",
   "mimetype": "text/x-python",
   "name": "python",
   "nbconvert_exporter": "python",
   "pygments_lexer": "ipython2",
   "version": "2.7.15"
  }
 },
 "nbformat": 4,
 "nbformat_minor": 2
}
