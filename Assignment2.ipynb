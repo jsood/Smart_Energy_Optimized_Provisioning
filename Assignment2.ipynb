{
 "cells": [
  {
   "cell_type": "code",
   "execution_count": 12,
   "metadata": {},
   "outputs": [],
   "source": [
    "import cvxpy as cp\n",
    "import numpy as np\n",
    "import math\n",
    "import pandas as pd\n",
    "import itertools\n",
    "import statsmodels.api as sm\n",
    "import warnings\n",
    "from datetime import datetime, timedelta\n",
    "from sklearn.metrics import mean_absolute_error, r2_score\n",
    "from sklearn.ensemble import AdaBoostRegressor\n",
    "import matplotlib.pyplot as plt\n",
    "warnings.filterwarnings(\"ignore\")"
   ]
  },
  {
   "cell_type": "code",
   "execution_count": 3,
   "metadata": {},
   "outputs": [
    {
     "name": "stdout",
     "output_type": "stream",
     "text": [
      "Which Home?1\n",
      "Year1/Home1_yr1.csv\n"
     ]
    }
   ],
   "source": [
    "home = raw_input(\"Which Home?\")\n",
    "file_path = 'Year1/Home' + home + '_yr1.csv'\n",
    "print(file_path)"
   ]
  },
  {
   "cell_type": "code",
   "execution_count": 5,
   "metadata": {},
   "outputs": [],
   "source": [
    "#print(file_path)\n",
    "dft = pd.read_csv(file_path, names=['Actual'])\n",
    "#print(dft.head())\n",
    "intervals = pd.date_range(start='12/1/2014', end='12/1/2015', freq='15min', closed=None)[0:-1]\n",
    "dft.insert(0, 'Timestamp', intervals)\n",
    "dft = dft.set_index('Timestamp')\n",
    "\n",
    "#print(dft.index)\n",
    "#print(dft['2014-12-1 00:00:00':])"
   ]
  },
  {
   "cell_type": "code",
   "execution_count": 6,
   "metadata": {},
   "outputs": [
    {
     "name": "stdout",
     "output_type": "stream",
     "text": [
      "Enter the Year:2015\n",
      "Enter the Month:11\n",
      "Enter the Date:1\n",
      "Enter the Hour:0\n",
      "Enter the Minute:0\n",
      "2015-11-01 00:00:00\n"
     ]
    }
   ],
   "source": [
    "year = raw_input(\"Enter the Year:\")\n",
    "month = raw_input(\"Enter the Month:\")\n",
    "date = raw_input(\"Enter the Date:\")\n",
    "hour = raw_input(\"Enter the Hour:\")\n",
    "minute = raw_input(\"Enter the Minute:\")\n",
    "date1 = datetime(int(year), int(month), int(date), int(hour), int(minute) , 0)\n",
    "print(date1)"
   ]
  },
  {
   "cell_type": "code",
   "execution_count": 8,
   "metadata": {},
   "outputs": [
    {
     "name": "stdout",
     "output_type": "stream",
     "text": [
      "2015-11-01 00:00:00\n",
      "2015-11-07 23:45:00\n"
     ]
    }
   ],
   "source": [
    "# Find the end interval after 7 days\n",
    "print(date1)\n",
    "end_dt = date1 + timedelta(days=7) - timedelta(minutes=15)\n",
    "print(end_dt)\n",
    "\n",
    "training_dataset = dft[: date1 - timedelta(minutes=15)]\n",
    "dataset = dft[date1:end_dt]\n"
   ]
  },
  {
   "cell_type": "code",
   "execution_count": 9,
   "metadata": {},
   "outputs": [
    {
     "name": "stdout",
     "output_type": "stream",
     "text": [
      "196.9077813524272\n"
     ]
    }
   ],
   "source": [
    "#Offline Dynamic \n",
    "p = 0.1\n",
    "a = 1\n",
    "# use the y as directly from the house values\n",
    "y = dataset['Actual'].tolist()\n",
    "x = cp.Variable(672)\n",
    "sum = 0\n",
    "\n",
    "for i in range(1,672):\n",
    "    sum += (cp.multiply(p,x[i]) + cp.maximum(0, y[i]-x[i]) + cp.abs(x[i] - x[i-1]))\n",
    "    \n",
    "objective = (cp.Minimize(sum))\n",
    "constraints = [0 <= x]\n",
    "prob = cp.Problem(objective, constraints)\n",
    "\n",
    "# The optimal objective value is returned by `prob.solve()`.\n",
    "result = prob.solve()\n",
    "print(result)\n",
    "# The optimal value for x is stored in `x.value`.\n",
    "#print(x.value)\n",
    "\n",
    "# The optimal Lagrange multiplier for a constraint is stored in\n",
    "# `constraint.dual_value`.\n",
    "#print(constraints[0].dual_value)"
   ]
  },
  {
   "cell_type": "code",
   "execution_count": 10,
   "metadata": {},
   "outputs": [
    {
     "name": "stdout",
     "output_type": "stream",
     "text": [
      "71.14318760000002\n"
     ]
    }
   ],
   "source": [
    "#Offline static\n",
    "\n",
    "p = 0.1\n",
    "a = 1\n",
    "# use the y as directly from the house values\n",
    "y = dataset['Actual'].tolist()\n",
    "x = cp.Variable(672)\n",
    "\n",
    "equation = p*x + a*(cp.maximum(0,y-x))\n",
    "objective = cp.Minimize(cp.sum(equation))\n",
    "constraints = [0 <= x]\n",
    "prob = cp.Problem(objective, constraints)\n",
    "\n",
    "# The optimal objective value is returned by `prob.solve()`.\n",
    "result = prob.solve()\n",
    "print(result)\n",
    "# The optimal value for x is stored in `x.value`.\n",
    "#print(x.value)\n",
    "# The optimal Lagrange multiplier for a constraint is stored in\n",
    "# `constraint.dual_value`.\n",
    "#print(constraints[0].dual_value)"
   ]
  },
  {
   "cell_type": "code",
   "execution_count": 13,
   "metadata": {},
   "outputs": [
    {
     "name": "stdout",
     "output_type": "stream",
     "text": [
      "709.439825357\n"
     ]
    }
   ],
   "source": [
    "# Online Gradient Descent\n",
    "\n",
    "a = 1\n",
    "b = 1\n",
    "p = 0.1\n",
    "\n",
    "c = 0.001\n",
    "def eta(i):\n",
    "    return c/math.sqrt(i)\n",
    "\n",
    "def df1(y , x):\n",
    "    if y > x:\n",
    "        return p - a + b\n",
    "    else:\n",
    "        return p + b\n",
    "\n",
    "x = [0]\n",
    "\n",
    "for i in range(1,672):\n",
    "    x.append(x[i-1] + (eta(i) * df1(y[i-1], x[i-1])))\n",
    "  \n",
    "cost = 0\n",
    "for i in range(0,len(x)):\n",
    "    cost += p*x[i] + a*max(0, y[i] - x[i]) + b* abs(x[i] - x[i-1])\n",
    "print(cost)\n"
   ]
  },
  {
   "cell_type": "code",
   "execution_count": null,
   "metadata": {},
   "outputs": [],
   "source": [
    "# def df(y , prev_x):\n",
    "#     if y > prev_x:\n",
    "#         return 0.4\n",
    "#     else:\n",
    "#         return 0.4 + 4"
   ]
  },
  {
   "cell_type": "code",
   "execution_count": null,
   "metadata": {},
   "outputs": [],
   "source": [
    "# # previous OGD - Use x and y as needed similar to offline implementations done above\n",
    "# result = []\n",
    "# for y in y_pred_1:\n",
    "#     print(y)\n",
    "#     cur_x = 3 # The algorithm starts at x=3\n",
    "#     rate = 0.01 # Learning rate\n",
    "#     precision = 0.000001 #This tells us when to stop the algorithm\n",
    "#     previous_step_size = 1 #\n",
    "#     max_iters = 10000 # maximum number of iterations\n",
    "#     iters = 0 #iteration counter\n",
    "# #     df = lambda x: 2*(x+5)\n",
    "    \n",
    "#     while previous_step_size > precision and iters < max_iters:\n",
    "#         prev_x = cur_x #Store current x value in prev_x\n",
    "        \n",
    "#         cur_x = cur_x - rate * df(y, prev_x) #Grad descent\n",
    "#         previous_step_size = abs(cur_x - prev_x) #Change in x\n",
    "#         iters = iters+1 #iteration count\n",
    "#         #print(\"Iteration\",iters,\"\\nX value is\",cur_x) #Print iterations\n",
    "#     #print(iters)\n",
    "#     print(cur_x)\n"
   ]
  },
  {
   "cell_type": "code",
   "execution_count": 14,
   "metadata": {},
   "outputs": [
    {
     "name": "stdout",
     "output_type": "stream",
     "text": [
      "Examples of parameter combinations for Seasonal ARIMA\n",
      "SARIMAX: (0, 0, 1) x (0, 0, 1, 12)\n",
      "SARIMAX: (0, 0, 1) x (0, 1, 0, 12)\n",
      "SARIMAX: (0, 1, 0) x (0, 1, 1, 12)\n",
      "SARIMAX: (0, 1, 0) x (1, 0, 0, 12)\n"
     ]
    }
   ],
   "source": [
    "# Predictions for RHC and CHC ahead\n",
    "# ARIMA algorithm starts\n",
    "p = d = q = range(0, 2)\n",
    "pdq = list(itertools.product(p, d, q))\n",
    "seasonal_pdq = [(x[0], x[1], x[2], 12) for x in list(itertools.product(p, d, q))]\n",
    "print('Examples of parameter combinations for Seasonal ARIMA')\n",
    "print('SARIMAX: {} x {}'.format(pdq[1], seasonal_pdq[1]))\n",
    "print('SARIMAX: {} x {}'.format(pdq[1], seasonal_pdq[2]))\n",
    "print('SARIMAX: {} x {}'.format(pdq[2], seasonal_pdq[3]))\n",
    "print('SARIMAX: {} x {}'.format(pdq[2], seasonal_pdq[4]))"
   ]
  },
  {
   "cell_type": "code",
   "execution_count": 17,
   "metadata": {
    "scrolled": false
   },
   "outputs": [
    {
     "name": "stdout",
     "output_type": "stream",
     "text": [
      "==============================================================================\n",
      "                 coef    std err          z      P>|z|      [0.025      0.975]\n",
      "------------------------------------------------------------------------------\n",
      "ar.L1          0.8378      0.004    195.448      0.000       0.829       0.846\n",
      "ma.L1         -0.5364      0.006    -88.313      0.000      -0.548      -0.525\n",
      "ar.S.L12       0.0187      0.005      4.129      0.000       0.010       0.028\n",
      "ma.S.L12      -1.0124      0.001  -1090.441      0.000      -1.014      -1.011\n",
      "sigma2         0.9994      0.004    227.618      0.000       0.991       1.008\n",
      "==============================================================================\n"
     ]
    }
   ],
   "source": [
    "# find the optimal set of parameters that yields the best performance for our model\n",
    "# Choose the one with the least resulting AIC value\n",
    "for param in pdq:\n",
    "    for param_seasonal in seasonal_pdq:\n",
    "        try:\n",
    "            mod = sm.tsa.statespace.SARIMAX(training_dataset,\n",
    "                                            order=param,\n",
    "                                            seasonal_order=param_seasonal,\n",
    "                                            enforce_stationarity=False,\n",
    "                                            enforce_invertibility=False)\n",
    "            results = mod.fit()\n",
    "            #print('ARIMA{}x{}12 - AIC:{}'.format(param, param_seasonal, results.aic))\n",
    "        except:\n",
    "            continue\n",
    "pdq = [1, 1, 0, 1, 1, 1, 1]\n",
    "#print(pdq)\n",
    "mod = sm.tsa.statespace.SARIMAX(training_dataset,\n",
    "                                order=(pdq[1], pdq[2], pdq[3]),\n",
    "                                seasonal_order=(pdq[4], pdq[5], pdq[6], 12),\n",
    "                                enforce_stationarity=False,\n",
    "                                enforce_invertibility=False)\n",
    "results = mod.fit()\n",
    "print(results.summary().tables[1])"
   ]
  },
  {
   "cell_type": "code",
   "execution_count": 20,
   "metadata": {},
   "outputs": [
    {
     "name": "stdout",
     "output_type": "stream",
     "text": [
      "Mean absolute error LR: 0.758411393\n"
     ]
    }
   ],
   "source": [
    "# Forecasting\n",
    "pred = results.get_prediction(start=date1, end=end_dt+timedelta(hours=1)+timedelta(minutes=15), dynamic=False)\n",
    "arima_pred_list = pred.predicted_mean.values.tolist()\n",
    "y_pred_arima = np.asarray(arima_pred_list)\n",
    "df_forecasted = pred.predicted_mean[:672]\n",
    "df_truth = dataset['Actual']\n",
    "print(\"Mean absolute error LR: %.9f\"\n",
    "      % mean_absolute_error(df_truth,df_forecasted))"
   ]
  },
  {
   "cell_type": "code",
   "execution_count": 21,
   "metadata": {},
   "outputs": [
    {
     "name": "stdout",
     "output_type": "stream",
     "text": [
      "Year1/Home1_yr1.csv\n"
     ]
    }
   ],
   "source": [
    "print(file_path)\n",
    "df = pd.read_csv(file_path, names=['Consumption'])\n",
    "#print(df)\n",
    "def datetime_range(start, end, delta):\n",
    "    end += 4*delta\n",
    "    current = start\n",
    "    while current < end:\n",
    "        yield current\n",
    "        current += delta\n",
    "\n",
    "dts = [dt for dt in \n",
    "       datetime_range(datetime(2014, 12, 1, 0), datetime(2015, 11 , 30 , 23), \n",
    "       timedelta(minutes=15))]\n",
    "df['date/time'] = dts"
   ]
  },
  {
   "cell_type": "code",
   "execution_count": 22,
   "metadata": {},
   "outputs": [],
   "source": [
    "for i, row in df.iterrows():\n",
    "#handling seasons\n",
    "    df.at[i, 'Year'] = row[1].year\n",
    "    df.at[i, 'Date'] = row[1].day\n",
    "    df.at[i, 'Month'] = row[1].month\n",
    "    df.at[i, 'Hour'] = row[1].hour\n",
    "    df.at[i, 'Minute'] = row[1].minute\n",
    "    if row[1].month in range(1,4) :\n",
    "        df.at[i, 'Summer'] = 1\n",
    "    elif row[1].month in range(4,7):\n",
    "        df.at[i, 'Spring'] = 1\n",
    "    elif row[1].month in range(7,10):\n",
    "        df.at[i, 'Fall'] = 1\n",
    "    elif row[1].month in range(10,13):\n",
    "        df.at[i, 'Winter'] = 1\n",
    "        \n",
    "#handling peak hours   \n",
    "    if row[1].hour in [0,1,2,3,4,5,6,7,20,21,22,23]:\n",
    "        df.at[i, 'Peak Hour'] = 1\n",
    "    else:\n",
    "        df.at[i, 'Peak Hour'] = 0\n",
    "        \n",
    "#handling holidays & weekends\n",
    "    if row[1].weekday() in [5,6] :\n",
    "        df.at[i, 'Holiday'] = 1\n",
    "    elif row[1].month == 10 and row[1].day == 2:\n",
    "        df.at[i, 'Holiday'] = 1\n",
    "    elif row[1].month == 1 and row[1].day == 26:\n",
    "        df.at[i, 'Holiday'] = 1\n",
    "    else:\n",
    "        df.at[i, 'Holiday'] = 0\n",
    "\n",
    "df['Spring'].fillna(0,inplace=True)\n",
    "df['Fall'].fillna(0,inplace=True)\n",
    "df['Summer'].fillna(0,inplace=True)\n",
    "df['Winter'].fillna(0,inplace=True)"
   ]
  },
  {
   "cell_type": "code",
   "execution_count": 23,
   "metadata": {},
   "outputs": [],
   "source": [
    "for i, row in df.iterrows():\n",
    "    if row[1] == date1:\n",
    "        break\n",
    "x_train = df[['Year','Date','Month','Hour','Minute','Summer','Winter', 'Fall','Spring' , 'Holiday', 'Peak Hour']][:i]\n",
    "y_train = df[['Consumption']][:i]\n",
    "x_test = df[['Year','Date','Month','Hour','Minute','Summer','Winter', 'Fall','Spring' , 'Holiday', 'Peak Hour']] [i:677+i]\n",
    "y_test = df[['Consumption']][i:677+i]"
   ]
  },
  {
   "cell_type": "code",
   "execution_count": 25,
   "metadata": {},
   "outputs": [
    {
     "name": "stdout",
     "output_type": "stream",
     "text": [
      "Mean absolute error LR: 1.772214532\n"
     ]
    }
   ],
   "source": [
    "regr = AdaBoostRegressor(base_estimator=None, n_estimators=50, learning_rate=1.0, loss='linear', random_state=None)\n",
    "regr.fit(x_train, y_train)\n",
    "y_pred_adaboost = regr.predict(x_test)\n",
    "print(\"Mean absolute error LR: %.9f\"\n",
    "      % mean_absolute_error(y_test,y_pred_adaboost))"
   ]
  },
  {
   "cell_type": "code",
   "execution_count": 29,
   "metadata": {},
   "outputs": [],
   "source": [
    "# RHC with Arima predictions\n",
    "p = 0.1\n",
    "a = 1\n",
    "w = 6\n",
    "X_1 = []\n",
    "\n",
    "for t in range(0,672):\n",
    "    y = y_pred_arima[t:t+w]\n",
    "    x = cp.Variable(w)\n",
    "    sum = 0\n",
    "    for i in range(0,w):\n",
    "        sum += (cp.multiply(p,x[i]) + cp.maximum(0, y[i]-x[i]) + cp.abs(x[i] - x[i-1]))\n",
    "    \n",
    "    objective = (cp.Minimize(sum))\n",
    "    constraints = [0 <= x]\n",
    "    prob = cp.Problem(objective, constraints)\n",
    "\n",
    "    # The optimal objective value is returned by `prob.solve()`.\n",
    "    result = prob.solve()\n",
    "    #print(result)\n",
    "    # The optimal value for x is stored in `x.value`.\n",
    "    X_1.insert(t, x.value[0])\n",
    "    \n",
    "    # The optimal Lagrange multiplier for a constraint is stored in\n",
    "    # `constraint.dual_value`.\n",
    "    #print(constraints[0].dual_value)\n"
   ]
  },
  {
   "cell_type": "code",
   "execution_count": 30,
   "metadata": {},
   "outputs": [
    {
     "ename": "IndexError",
     "evalue": "index 6 is out of bounds for axis 0 with size 6",
     "output_type": "error",
     "traceback": [
      "\u001b[0;31m---------------------------------------------------------------------------\u001b[0m",
      "\u001b[0;31mIndexError\u001b[0m                                Traceback (most recent call last)",
      "\u001b[0;32m<ipython-input-30-a8381eab5587>\u001b[0m in \u001b[0;36m<module>\u001b[0;34m()\u001b[0m\n\u001b[1;32m      1\u001b[0m \u001b[0;32mfor\u001b[0m \u001b[0mi\u001b[0m \u001b[0;32min\u001b[0m \u001b[0mrange\u001b[0m\u001b[0;34m(\u001b[0m\u001b[0;36m1\u001b[0m\u001b[0;34m,\u001b[0m\u001b[0mlen\u001b[0m\u001b[0;34m(\u001b[0m\u001b[0mX_1\u001b[0m\u001b[0;34m)\u001b[0m\u001b[0;34m)\u001b[0m\u001b[0;34m:\u001b[0m\u001b[0;34m\u001b[0m\u001b[0m\n\u001b[0;32m----> 2\u001b[0;31m     \u001b[0mcost\u001b[0m \u001b[0;34m+=\u001b[0m \u001b[0mp\u001b[0m\u001b[0;34m*\u001b[0m\u001b[0mX_1\u001b[0m\u001b[0;34m[\u001b[0m\u001b[0mi\u001b[0m\u001b[0;34m]\u001b[0m \u001b[0;34m+\u001b[0m \u001b[0ma\u001b[0m\u001b[0;34m*\u001b[0m\u001b[0mmax\u001b[0m\u001b[0;34m(\u001b[0m\u001b[0;36m0\u001b[0m\u001b[0;34m,\u001b[0m \u001b[0my\u001b[0m\u001b[0;34m[\u001b[0m\u001b[0mi\u001b[0m\u001b[0;34m]\u001b[0m \u001b[0;34m-\u001b[0m \u001b[0mX_1\u001b[0m\u001b[0;34m[\u001b[0m\u001b[0mi\u001b[0m\u001b[0;34m]\u001b[0m\u001b[0;34m)\u001b[0m \u001b[0;34m+\u001b[0m \u001b[0mb\u001b[0m\u001b[0;34m*\u001b[0m \u001b[0mabs\u001b[0m\u001b[0;34m(\u001b[0m\u001b[0mX_1\u001b[0m\u001b[0;34m[\u001b[0m\u001b[0mi\u001b[0m\u001b[0;34m]\u001b[0m \u001b[0;34m-\u001b[0m \u001b[0mX_1\u001b[0m\u001b[0;34m[\u001b[0m\u001b[0mi\u001b[0m\u001b[0;34m-\u001b[0m\u001b[0;36m1\u001b[0m\u001b[0;34m]\u001b[0m\u001b[0;34m)\u001b[0m\u001b[0;34m\u001b[0m\u001b[0m\n\u001b[0m\u001b[1;32m      3\u001b[0m \u001b[0;32mprint\u001b[0m\u001b[0;34m(\u001b[0m\u001b[0mcost\u001b[0m\u001b[0;34m)\u001b[0m\u001b[0;34m\u001b[0m\u001b[0m\n\u001b[1;32m      4\u001b[0m \u001b[0;32mprint\u001b[0m\u001b[0;34m(\u001b[0m\u001b[0mlen\u001b[0m\u001b[0;34m(\u001b[0m\u001b[0mX_1\u001b[0m\u001b[0;34m)\u001b[0m\u001b[0;34m)\u001b[0m\u001b[0;34m\u001b[0m\u001b[0m\n\u001b[1;32m      5\u001b[0m \u001b[0;32mprint\u001b[0m\u001b[0;34m(\u001b[0m\u001b[0mX_1\u001b[0m\u001b[0;34m)\u001b[0m\u001b[0;34m\u001b[0m\u001b[0m\n",
      "\u001b[0;31mIndexError\u001b[0m: index 6 is out of bounds for axis 0 with size 6"
     ]
    }
   ],
   "source": [
    "for i in range(1,len(X_1)):\n",
    "    cost += p*X_1[i] + a*max(0, y[i] - X_1[i]) + b* abs(X_1[i] - X_1[i-1])\n",
    "print(cost)\n",
    "print(len(X_1))\n",
    "print(X_1)"
   ]
  },
  {
   "cell_type": "code",
   "execution_count": null,
   "metadata": {},
   "outputs": [],
   "source": [
    "# RHC with AdaBoost predictions\n",
    "p = 0.1\n",
    "a = 1\n",
    "w = 6\n",
    "X_2 = []\n",
    "\n",
    "for t in range(0,672):\n",
    "    y = y_pred_adaboost[t:t+w]\n",
    "    x = cp.Variable(w)\n",
    "    sum = 0\n",
    "    for i in range(0,w):\n",
    "        sum += (cp.multiply(p,x[i]) + cp.maximum(0, y[i]-x[i]) + cp.abs(x[i] - x[i-1]))\n",
    "    \n",
    "    objective = (cp.Minimize(sum))\n",
    "    constraints = [0 <= x]\n",
    "    prob = cp.Problem(objective, constraints)\n",
    "\n",
    "    # The optimal objective value is returned by `prob.solve()`.\n",
    "    result = prob.solve()\n",
    "    #print(result)\n",
    "    # The optimal value for x is stored in `x.value`.\n",
    "    X_2.insert(t, x.value[0])\n",
    "    \n",
    "    # The optimal Lagrange multiplier for a constraint is stored in\n",
    "    # `constraint.dual_value`.\n",
    "    #print(constraints[0].dual_value)\n",
    "print(len(X_2))\n",
    "print(X_2)"
   ]
  },
  {
   "cell_type": "code",
   "execution_count": null,
   "metadata": {},
   "outputs": [],
   "source": []
  }
 ],
 "metadata": {
  "kernelspec": {
   "display_name": "Python 2",
   "language": "python",
   "name": "python2"
  },
  "language_info": {
   "codemirror_mode": {
    "name": "ipython",
    "version": 2
   },
   "file_extension": ".py",
   "mimetype": "text/x-python",
   "name": "python",
   "nbconvert_exporter": "python",
   "pygments_lexer": "ipython2",
   "version": "2.7.15"
  }
 },
 "nbformat": 4,
 "nbformat_minor": 2
}
