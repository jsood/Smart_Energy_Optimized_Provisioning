{
 "cells": [
  {
   "cell_type": "code",
   "execution_count": 1,
   "metadata": {},
   "outputs": [
    {
     "name": "stderr",
     "output_type": "stream",
     "text": [
      "/Users/vaishrohan/anaconda2/lib/python2.7/site-packages/sklearn/ensemble/weight_boosting.py:29: DeprecationWarning: numpy.core.umath_tests is an internal NumPy module and should not be imported. It will be removed in a future NumPy release.\n",
      "  from numpy.core.umath_tests import inner1d\n"
     ]
    }
   ],
   "source": [
    "import cvxpy as cp\n",
    "import numpy as np\n",
    "import math\n",
    "import pandas as pd\n",
    "import itertools\n",
    "import statsmodels.api as sm\n",
    "import warnings\n",
    "from datetime import datetime, timedelta\n",
    "from sklearn.metrics import mean_absolute_error, r2_score\n",
    "from sklearn.ensemble import AdaBoostRegressor\n",
    "import matplotlib.pyplot as plt\n",
    "warnings.filterwarnings(\"ignore\")"
   ]
  },
  {
   "cell_type": "code",
   "execution_count": 2,
   "metadata": {},
   "outputs": [
    {
     "name": "stdout",
     "output_type": "stream",
     "text": [
      "Which Home?1\n",
      "Year1/Home1_yr1.csv\n"
     ]
    }
   ],
   "source": [
    "home = raw_input(\"Which Home?\")\n",
    "file_path = 'Year1/Home' + home + '_yr1.csv'\n",
    "print(file_path)"
   ]
  },
  {
   "cell_type": "code",
   "execution_count": 3,
   "metadata": {},
   "outputs": [],
   "source": [
    "#print(file_path)\n",
    "dft = pd.read_csv(file_path, names=['Actual'])\n",
    "#print(dft.head())\n",
    "intervals = pd.date_range(start='12/1/2014', end='12/1/2015', freq='15min', closed=None)[0:-1]\n",
    "dft.insert(0, 'Timestamp', intervals)\n",
    "dft = dft.set_index('Timestamp')\n",
    "\n",
    "#print(dft.index)\n",
    "#print(dft['2014-12-1 00:00:00':])"
   ]
  },
  {
   "cell_type": "code",
   "execution_count": 4,
   "metadata": {},
   "outputs": [
    {
     "name": "stdout",
     "output_type": "stream",
     "text": [
      "Enter the Year:2015\n",
      "Enter the Month:11\n",
      "Enter the Date:1\n",
      "Enter the Hour:0\n",
      "Enter the Minute:0\n",
      "2015-11-01 00:00:00\n"
     ]
    }
   ],
   "source": [
    "year = raw_input(\"Enter the Year:\")\n",
    "month = raw_input(\"Enter the Month:\")\n",
    "date = raw_input(\"Enter the Date:\")\n",
    "hour = raw_input(\"Enter the Hour:\")\n",
    "minute = raw_input(\"Enter the Minute:\")\n",
    "date1 = datetime(int(year), int(month), int(date), int(hour), int(minute) , 0)\n",
    "print(date1)"
   ]
  },
  {
   "cell_type": "code",
   "execution_count": 5,
   "metadata": {},
   "outputs": [
    {
     "name": "stdout",
     "output_type": "stream",
     "text": [
      "2015-11-01 00:00:00\n",
      "2015-11-07 23:45:00\n"
     ]
    }
   ],
   "source": [
    "# Find the end interval after 7 days\n",
    "print(date1)\n",
    "end_dt = date1 + timedelta(days=7) - timedelta(minutes=15)\n",
    "print(end_dt)\n",
    "\n",
    "training_dataset = dft[: date1 - timedelta(minutes=15)]\n",
    "dataset = dft[date1:end_dt]\n",
    "y = dataset['Actual'].tolist()\n"
   ]
  },
  {
   "cell_type": "code",
   "execution_count": 6,
   "metadata": {},
   "outputs": [
    {
     "name": "stdout",
     "output_type": "stream",
     "text": [
      "196.90778135242712\n"
     ]
    }
   ],
   "source": [
    "#Offline Dynamic \n",
    "p = 0.1\n",
    "a = 1\n",
    "x = cp.Variable(672)\n",
    "sum = 0\n",
    "\n",
    "for i in range(1,672):\n",
    "    sum += (cp.multiply(p,x[i]) + cp.maximum(0, y[i]-x[i]) + cp.abs(x[i] - x[i-1]))\n",
    "    \n",
    "objective = (cp.Minimize(sum))\n",
    "constraints = [0 <= x]\n",
    "prob = cp.Problem(objective, constraints)\n",
    "\n",
    "# The optimal objective value is returned by `prob.solve()`.\n",
    "result = prob.solve()\n",
    "print(result)\n",
    "# The optimal value for x is stored in `x.value`.\n",
    "#print(x.value)\n",
    "\n",
    "# The optimal Lagrange multiplier for a constraint is stored in\n",
    "# `constraint.dual_value`.\n",
    "#print(constraints[0].dual_value)"
   ]
  },
  {
   "cell_type": "code",
   "execution_count": 7,
   "metadata": {},
   "outputs": [
    {
     "name": "stdout",
     "output_type": "stream",
     "text": [
      "293.0769063107693\n"
     ]
    }
   ],
   "source": [
    "#Offline static\n",
    "\n",
    "p = 0.1\n",
    "a = 1\n",
    "# use the y as directly from the house values\n",
    "y = dataset['Actual'].tolist()\n",
    "x = cp.Variable(672)\n",
    "\n",
    "equation = p*x + a*(cp.maximum(0,cp.exp(y-x)))\n",
    "objective = cp.Minimize(cp.sum(equation))\n",
    "constraints = [0 <= x]\n",
    "prob = cp.Problem(objective, constraints)\n",
    "\n",
    "# The optimal objective value is returned by `prob.solve()`.\n",
    "result = prob.solve()\n",
    "print(result)\n",
    "# The optimal value for x is stored in `x.value`.\n",
    "#print(x.value)\n",
    "# The optimal Lagrange multiplier for a constraint is stored in\n",
    "# `constraint.dual_value`.\n",
    "#print(constraints[0].dual_value)"
   ]
  },
  {
   "cell_type": "code",
   "execution_count": null,
   "metadata": {},
   "outputs": [],
   "source": [
    "# Online Gradient Descent\n",
    "a = 1\n",
    "b = 1\n",
    "p = 0.1\n",
    "c = 0.01\n",
    "\n",
    "def eta(i):\n",
    "    return c/math.sqrt(i)\n",
    "\n",
    "def df1(y , x1 , x2):\n",
    "    if y > x1:\n",
    "        if(x1 > x2):\n",
    "            return p - a + b\n",
    "        else:\n",
    "            return p - a - b\n",
    "    else:\n",
    "        if(x1 > x2):\n",
    "            return p + b\n",
    "        else:\n",
    "            return p - b\n",
    "x = [0]\n",
    "for i in range(1,672):\n",
    "    x.append(x[i-1] - (0.055 * df1(y[i-1], x[i-1] , x[i-2])))\n",
    "  \n",
    "cost = 0\n",
    "for i in range(0,len(x)):\n",
    "    cost += p*x[i] + a*max(0, y[i] - x[i]) + b* abs(x[i] - x[i-1])\n",
    "print(cost)"
   ]
  },
  {
   "cell_type": "code",
   "execution_count": null,
   "metadata": {},
   "outputs": [],
   "source": [
    "dur = [dt for dt in \n",
    "       datetime_range(datetime(2015,11,1,0), datetime(2015, 11 , 7 , 23), \n",
    "       timedelta(minutes=15))]\n",
    "OD = pd.DataFrame({'Energy Demand': y }) \n",
    "OD['Energy Provisioned'] = x\n",
    "OD['TimeStamp'] = dur\n",
    "fig_size = plt.rcParams[\"figure.figsize\"]\n",
    "fig_size[0] = 14\n",
    "fig_size[1] = 7\n",
    "plt.rcParams[\"figure.figsize\"] = fig_size\n",
    "plt.plot(OD['TimeStamp'], OD['Energy Demand'], label=\"Energy Demand\")\n",
    "plt.plot(OD['TimeStamp'], OD['Energy Provisioned'], linewidth=1, label=\"Energy Provisioned\")\n",
    "plt.title('Home 3 - Online Gradient Descent Provisioning')\n",
    "plt.xlabel('Timestamp')\n",
    "plt.ylabel('Energy')\n",
    "plt.legend()\n",
    "plt.show()"
   ]
  },
  {
   "cell_type": "code",
   "execution_count": null,
   "metadata": {},
   "outputs": [],
   "source": [
    "# Predictions for RHC and CHC ahead\n",
    "# ARIMA algorithm starts\n",
    "p = d = q = range(0, 2)\n",
    "pdq = list(itertools.product(p, d, q))\n",
    "seasonal_pdq = [(x[0], x[1], x[2], 12) for x in list(itertools.product(p, d, q))]\n",
    "print('Examples of parameter combinations for Seasonal ARIMA')\n",
    "print('SARIMAX: {} x {}'.format(pdq[1], seasonal_pdq[1]))\n",
    "print('SARIMAX: {} x {}'.format(pdq[1], seasonal_pdq[2]))\n",
    "print('SARIMAX: {} x {}'.format(pdq[2], seasonal_pdq[3]))\n",
    "print('SARIMAX: {} x {}'.format(pdq[2], seasonal_pdq[4]))"
   ]
  },
  {
   "cell_type": "code",
   "execution_count": null,
   "metadata": {
    "scrolled": false
   },
   "outputs": [],
   "source": [
    "# find the optimal set of parameters that yields the best performance for our model\n",
    "# Choose the one with the least resulting AIC value\n",
    "for param in pdq:\n",
    "    for param_seasonal in seasonal_pdq:\n",
    "        try:\n",
    "            mod = sm.tsa.statespace.SARIMAX(training_dataset,\n",
    "                                            order=param,\n",
    "                                            seasonal_order=param_seasonal,\n",
    "                                            enforce_stationarity=False,\n",
    "                                            enforce_invertibility=False)\n",
    "            results = mod.fit()\n",
    "            #print('ARIMA{}x{}12 - AIC:{}'.format(param, param_seasonal, results.aic))\n",
    "        except:\n",
    "            continue\n",
    "pdq = [1, 1, 0, 1, 1, 1, 1]\n",
    "#print(pdq)\n",
    "mod = sm.tsa.statespace.SARIMAX(training_dataset,\n",
    "                                order=(pdq[1], pdq[2], pdq[3]),\n",
    "                                seasonal_order=(pdq[4], pdq[5], pdq[6], 12),\n",
    "                                enforce_stationarity=False,\n",
    "                                enforce_invertibility=False)\n",
    "results = mod.fit()\n",
    "print(results.summary().tables[1])"
   ]
  },
  {
   "cell_type": "code",
   "execution_count": null,
   "metadata": {},
   "outputs": [],
   "source": [
    "# Forecasting\n",
    "pred = results.get_prediction(start=date1, end=end_dt+timedelta(hours=1)+timedelta(minutes=15), dynamic=False)\n",
    "arima_pred_list = pred.predicted_mean.values.tolist()\n",
    "y_pred_arima = np.asarray(arima_pred_list)\n",
    "df_forecasted = pred.predicted_mean[:672]\n",
    "df_truth = dataset['Actual']\n",
    "print(\"Mean absolute error LR: %.9f\"\n",
    "      % mean_absolute_error(df_truth,df_forecasted))"
   ]
  },
  {
   "cell_type": "code",
   "execution_count": null,
   "metadata": {},
   "outputs": [],
   "source": [
    "print(file_path)\n",
    "df = pd.read_csv(file_path, names=['Consumption'])\n",
    "#print(df)\n",
    "def datetime_range(start, end, delta):\n",
    "    end += 4*delta\n",
    "    current = start\n",
    "    while current < end:\n",
    "        yield current\n",
    "        current += delta\n",
    "\n",
    "dts = [dt for dt in \n",
    "       datetime_range(datetime(2014, 12, 1, 0), datetime(2015, 11 , 30 , 23), \n",
    "       timedelta(minutes=15))]\n",
    "df['date/time'] = dts"
   ]
  },
  {
   "cell_type": "code",
   "execution_count": null,
   "metadata": {},
   "outputs": [],
   "source": [
    "for i, row in df.iterrows():\n",
    "#handling seasons\n",
    "    df.at[i, 'Year'] = row[1].year\n",
    "    df.at[i, 'Date'] = row[1].day\n",
    "    df.at[i, 'Month'] = row[1].month\n",
    "    df.at[i, 'Hour'] = row[1].hour\n",
    "    df.at[i, 'Minute'] = row[1].minute\n",
    "    if row[1].month in range(1,4) :\n",
    "        df.at[i, 'Summer'] = 1\n",
    "    elif row[1].month in range(4,7):\n",
    "        df.at[i, 'Spring'] = 1\n",
    "    elif row[1].month in range(7,10):\n",
    "        df.at[i, 'Fall'] = 1\n",
    "    elif row[1].month in range(10,13):\n",
    "        df.at[i, 'Winter'] = 1\n",
    "        \n",
    "#handling peak hours   \n",
    "    if row[1].hour in [0,1,2,3,4,5,6,7,20,21,22,23]:\n",
    "        df.at[i, 'Peak Hour'] = 1\n",
    "    else:\n",
    "        df.at[i, 'Peak Hour'] = 0\n",
    "        \n",
    "#handling holidays & weekends\n",
    "    if row[1].weekday() in [5,6] :\n",
    "        df.at[i, 'Holiday'] = 1\n",
    "    elif row[1].month == 10 and row[1].day == 2:\n",
    "        df.at[i, 'Holiday'] = 1\n",
    "    elif row[1].month == 1 and row[1].day == 26:\n",
    "        df.at[i, 'Holiday'] = 1\n",
    "    else:\n",
    "        df.at[i, 'Holiday'] = 0\n",
    "\n",
    "df['Spring'].fillna(0,inplace=True)\n",
    "df['Fall'].fillna(0,inplace=True)\n",
    "df['Summer'].fillna(0,inplace=True)\n",
    "df['Winter'].fillna(0,inplace=True)"
   ]
  },
  {
   "cell_type": "code",
   "execution_count": null,
   "metadata": {},
   "outputs": [],
   "source": [
    "for i, row in df.iterrows():\n",
    "    if row[1] == date1:\n",
    "        break\n",
    "x_train = df[['Year','Date','Month','Hour','Minute','Summer','Winter', 'Fall','Spring' , 'Holiday', 'Peak Hour']][:i]\n",
    "y_train = df[['Consumption']][:i]\n",
    "x_test = df[['Year','Date','Month','Hour','Minute','Summer','Winter', 'Fall','Spring' , 'Holiday', 'Peak Hour']] [i:677+i]\n",
    "y_test = df[['Consumption']][i:677+i]"
   ]
  },
  {
   "cell_type": "code",
   "execution_count": null,
   "metadata": {},
   "outputs": [],
   "source": [
    "y_pred_arima = np.loadtxt(\"y_arima_pred_home1.csv\")\n",
    "print(len(y_pred_arima))\n",
    "print(type(y_pred_arima))\n",
    "y_pred_adaboost = np.loadtxt(\"y_pred_adaboost_home1.csv\")\n",
    "print(len(y_pred_adaboost))\n",
    "print(type(y_pred_adaboost))"
   ]
  },
  {
   "cell_type": "code",
   "execution_count": null,
   "metadata": {},
   "outputs": [],
   "source": [
    "# RHC with Arima predictions\n",
    "p = 0.1\n",
    "a = 1\n",
    "w = 6\n",
    "X_1 = [0]\n",
    "\n",
    "for t in range(1,672):\n",
    "    y = y_pred_arima[t:t+w]\n",
    "    x = cp.Variable(w)\n",
    "    sum = 0\n",
    "    for i in range(0,w):\n",
    "        sum += (cp.multiply(p,x[i]) + cp.maximum(0, y[i]-x[i]) + cp.abs(x[i] - x[i-1]))\n",
    "    \n",
    "    objective = (cp.Minimize(sum))\n",
    "    constraints = [0 <= x]\n",
    "    prob = cp.Problem(objective, constraints)\n",
    "\n",
    "    # The optimal objective value is returned by `prob.solve()`.\n",
    "    result = prob.solve()\n",
    "    #print(result)\n",
    "    # The optimal value for x is stored in `x.value`.\n",
    "    X_1.append(x.value[0])\n",
    "print(len(X_1))    \n",
    "    # The optimal Lagrange multiplier for a constraint is stored in\n",
    "    # `constraint.dual_value`.\n",
    "    #print(constraints[0].dual_value)"
   ]
  },
  {
   "cell_type": "code",
   "execution_count": null,
   "metadata": {},
   "outputs": [],
   "source": [
    "rhc_cost_arima = 0\n",
    "for i in range(1,len(X_1)):\n",
    "    rhc_cost_arima += p*X_1[i] + a*max(0, y_pred_arima[i] - X_1[i]) + b*abs(X_1[i] - X_1[i-1])\n",
    "print(rhc_cost_arima)"
   ]
  },
  {
   "cell_type": "code",
   "execution_count": null,
   "metadata": {},
   "outputs": [],
   "source": [
    "# RHC with AdaBoost predictions\n",
    "p = 0.1\n",
    "a = 1\n",
    "w = 6\n",
    "X_2 = [0]\n",
    "\n",
    "for t in range(1,672):\n",
    "    y = y_pred_adaboost[t:t+w]\n",
    "    x = cp.Variable(w)\n",
    "    sum = 0\n",
    "    for i in range(0,w):\n",
    "        sum += (cp.multiply(p,x[i]) + cp.maximum(0, y[i]-x[i]) + cp.abs(x[i] - x[i-1]))\n",
    "    \n",
    "    objective = (cp.Minimize(sum))\n",
    "    constraints = [0 <= x]\n",
    "    prob = cp.Problem(objective, constraints)\n",
    "\n",
    "    # The optimal objective value is returned by `prob.solve()`.\n",
    "    result = prob.solve()\n",
    "    #print(result)\n",
    "    # The optimal value for x is stored in `x.value`.\n",
    "    X_2.append(x.value[0])\n",
    "    \n",
    "    # The optimal Lagrange multiplier for a constraint is stored in\n",
    "    # `constraint.dual_value`.\n",
    "    #print(constraints[0].dual_value)\n",
    "print(len(X_2))\n",
    "print(X_2)"
   ]
  },
  {
   "cell_type": "code",
   "execution_count": null,
   "metadata": {},
   "outputs": [],
   "source": [
    "rhc_cost_adb = 0\n",
    "for i in range(1,len(X_1)):\n",
    "    rhc_cost_adb += p*X_1[i] + a*max(0, y_pred_adaboost[i] - X_1[i]) + b*abs(X_1[i] - X_1[i-1])\n",
    "print(rhc_cost_adb)"
   ]
  },
  {
   "cell_type": "code",
   "execution_count": null,
   "metadata": {},
   "outputs": [],
   "source": []
  }
 ],
 "metadata": {
  "kernelspec": {
   "display_name": "Python 2",
   "language": "python",
   "name": "python2"
  },
  "language_info": {
   "codemirror_mode": {
    "name": "ipython",
    "version": 2
   },
   "file_extension": ".py",
   "mimetype": "text/x-python",
   "name": "python",
   "nbconvert_exporter": "python",
   "pygments_lexer": "ipython2",
   "version": "2.7.15"
  }
 },
 "nbformat": 4,
 "nbformat_minor": 2
}
